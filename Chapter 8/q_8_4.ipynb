{
 "cells": [
  {
   "cell_type": "markdown",
   "metadata": {},
   "source": [
    "# Chapter 8: Capacity of Neural Networks"
   ]
  },
  {
   "cell_type": "markdown",
   "metadata": {},
   "source": [
    "## 4. Upper Bounds"
   ]
  },
  {
   "cell_type": "markdown",
   "metadata": {},
   "source": [
    "### (a) Do Exercise 40.8 in MacKay’s book (MacKay 2003). It is cited here as follows:\n",
    "    \n",
    "    `Estimate in bits the total sensory experience that you have had in your life – visual information, auditory information, etc. Estimate how much information you have memorized. Estimate the information content of the works of Shakespeare.\n",
    "    Compare these with the capacity of your brain assuming you have 10^11 neurons each making 1000 synaptic connections and that the (information) capacity result for one neuron (two bits per connection) applies. Is your brain full yet?`\n",
    "\n",
    "Note that MacKay is right to suggest using information capacity for this estimate as image and acoustic data are relatively high dimensional and he also suggests 1000 connections per neuron."
   ]
  },
  {
   "cell_type": "markdown",
   "metadata": {},
   "source": [
    "#### Ans. \n",
    "\n",
    "We first estimate the total sensory experience.\n",
    "Information transmission rates of the senses are as follows.\n",
    "\\begin{array}{c} \\hline\n",
    "\\text{sensory system} & \\text{bits per second} \\\\ \\hline\n",
    "eyes & 10,000,000 \\\\\n",
    "skin & 1,000,000 \\\\\n",
    "ears & 100,000 \\\\\n",
    "smell & 100,000 \\\\\n",
    "taste & 1,000 \\\\ \\hline\n",
    "\\end{array}\n",
    "\n",
    "I have been living for about 23 years, and assume that I on average wake up 16 hours a day. Hence, total sensory experience is $$(10 + 1 + 0.1 + 0.1 + 0.001)Mbps\\times 60seconds\\times 60minutes \\times 16hours\\times 365 days\\times 23 years=5.42\\times 10^{15} bits (2.s.f).$$\n",
    "\n",
    "<br>\n",
    "We then estimate how much information is memorized. The intelligent information processing rate is about 50 bits per second. Hence, total information prcessed is about $$50bits\\times 60minutes \\times 16hours\\times 365 days\\times 23 years=2.42\\times 10^{10} bits (2.s.f).$$\n",
    "If we assume that information must first be processed before being memorized, this is a upper bound on the information memorized, ignoring the consistant forgetting of information.\n",
    "</br>\n",
    "\n",
    "<br>\n",
    "We then estimate the information content of the works of Shakespeare. According to Marvin Spevack's concordances, Shakespeare's complete works consist of 884,647 words. Since the average English word length is 4.7 and 5 bits per character, thus the information content is $$884,647\\times4.7\\times5=2.08\\times 10^{7}bits.$$\n",
    "</br>\n",
    "\n",
    "Assume my brain have 1011 neurons each making 1000 synaptic connections and that the (information) capacity result for one neuron (two bits per connection) applies, my brain capacity is $$10^{11}\\times1000\\times 2=2\\times10^{14}bits.$$\n",
    "According to this capacity, my brain is not full with either the information memorized or all works of Shakespeare, or them combined. This is expected as I can still think, process and memorize."
   ]
  },
  {
   "cell_type": "markdown",
   "metadata": {},
   "source": [
    "### (b) Expand Algorithm 8 to work with more than one binary classification."
   ]
  },
  {
   "cell_type": "markdown",
   "metadata": {},
   "source": [
    "#### Ans. \n",
    "\n",
    "\n",
    "```\n",
    "Require: data: array of length n contains d-dimensional vectors x, labels: a column of k possible integers with length n\n",
    "    function memorize((data, labels))\n",
    "        thresholds ← 0\n",
    "        for all rows do\n",
    "            table[row] ← (sum(x[i][d]), label[row])\n",
    "            sortedtable ← sort (table, key = column 0)\n",
    "        end for\n",
    "        class ← sortedtable[0][1]\n",
    "        for all rows do\n",
    "            if not sortedtable[row][1] == class then\n",
    "                class ← sortedtable[i][1]\n",
    "                thresholds ← thresholds + 1\n",
    "            end if\n",
    "        end for\n",
    "        minthreshs ← log2(thresholds + 1)\n",
    "        mec ← (minthreshs ∗ (d + 1)) + minthreshs * k\n",
    "    end function: mec\n",
    "```"
   ]
  },
  {
   "cell_type": "code",
   "execution_count": 28,
   "metadata": {},
   "outputs": [
    {
     "data": {
      "text/plain": [
       "22.202638308846552"
      ]
     },
     "execution_count": 28,
     "metadata": {},
     "output_type": "execute_result"
    }
   ],
   "source": [
    "import math\n",
    "import numpy as np\n",
    "\n",
    "def memorize(data, labels):\n",
    "    thresholds = 0\n",
    "    table = []\n",
    "    for i in range(len(data)):\n",
    "        table.append((sum(data[i]), labels[i]))\n",
    "        \n",
    "    sorted_table = sorted(table, key=lambda x: x[0])\n",
    "    class_label = sorted_table[0][1]\n",
    "    \n",
    "    for i in range(1, len(sorted_table)):\n",
    "        if sorted_table[i][1] != class_label:\n",
    "            class_label = sorted_table[i][1]\n",
    "            thresholds += 1\n",
    "            \n",
    "    min_threshold = math.log2(thresholds + 1)\n",
    "    mec = min_threshold * (len(data[0]) + 1) + min_threshold\n",
    "    \n",
    "    return mec\n",
    "\n",
    "n = 20\n",
    "d = 4\n",
    "X = np.random.randint(2, size=(n, d))\n",
    "y = np.random.randint(2, size=n)\n",
    "mec = memorize(X, y)\n",
    "mec"
   ]
  },
  {
   "cell_type": "code",
   "execution_count": 29,
   "metadata": {},
   "outputs": [
    {
     "data": {
      "text/plain": [
       "27.67545294909838"
      ]
     },
     "execution_count": 29,
     "metadata": {},
     "output_type": "execute_result"
    }
   ],
   "source": [
    "import math\n",
    "import numpy as np\n",
    "\n",
    "def memorize_multiclass(data, labels):\n",
    "    thresholds = 0\n",
    "    table = []\n",
    "    for i in range(len(data)):\n",
    "        table.append((sum(data[i]), labels[i]))\n",
    "        \n",
    "    sorted_table = sorted(table, key=lambda x: x[0])\n",
    "    class_label = sorted_table[0][1]\n",
    "    \n",
    "    for i in range(1, len(sorted_table)):\n",
    "        if sorted_table[i][1] != class_label:\n",
    "            class_label = sorted_table[i][1]\n",
    "            thresholds += 1\n",
    "            \n",
    "    min_threshold = math.log2(thresholds + 1)\n",
    "    mec = min_threshold * (len(data[0]) + 1) + min_threshold * len(set(labels))\n",
    "    \n",
    "    return mec\n",
    "\n",
    "n = 20\n",
    "d = 4\n",
    "X = np.random.randint(2, size=(n, d))\n",
    "y = np.random.randint(3, size=n)\n",
    "mec = memorize_multiclass(X, y)\n",
    "mec"
   ]
  },
  {
   "cell_type": "markdown",
   "metadata": {},
   "source": [
    "### (c) Expand Algorithm 8 to work with regression."
   ]
  },
  {
   "cell_type": "markdown",
   "metadata": {},
   "source": [
    "#### Ans.\n",
    "```\n",
    "Require: data: array of length n contains d-dimensional vectors x, labels: a column of continuous numbers of length n\n",
    "    function memorize((data, labels, b))\n",
    "        thresholds ← 0\n",
    "        for all rows do\n",
    "            table[row] ← (sum(x[i][d]), label[row])\n",
    "            sortedtable ← sort (table, key = column 0)\n",
    "        end for\n",
    "        class ← sortedtable[0][1]\n",
    "        for all rows do\n",
    "            if not abs(sortedtable[row][1] - class) < b then\n",
    "                class ← sortedtable[i][1]\n",
    "                thresholds ← thresholds + 1\n",
    "            end if\n",
    "        end for\n",
    "        minthreshs ← log2(thresholds + 1)\n",
    "        mec ← (minthreshs ∗ (d + 1)) + minthreshs\n",
    "    end function: mec\n",
    "```"
   ]
  },
  {
   "cell_type": "code",
   "execution_count": 30,
   "metadata": {},
   "outputs": [
    {
     "data": {
      "text/plain": [
       "25.931568569324174"
      ]
     },
     "execution_count": 30,
     "metadata": {},
     "output_type": "execute_result"
    }
   ],
   "source": [
    "import math\n",
    "import numpy as np\n",
    "\n",
    "def memorize_regression(data, labels, b=0.01):\n",
    "    thresholds = 0\n",
    "    table = []\n",
    "    for i in range(len(data)):\n",
    "        table.append((sum(data[i]), labels[i]))\n",
    "        \n",
    "    sorted_table = sorted(table, key=lambda x: x[0])\n",
    "    class_label = sorted_table[0][1]\n",
    "    \n",
    "    for i in range(1, len(sorted_table)):\n",
    "        if not abs(sorted_table[i][1] - class_label) < b:\n",
    "            class_label = sorted_table[i][1]\n",
    "            thresholds += 1\n",
    "            \n",
    "    min_threshold = math.log2(thresholds + 1)\n",
    "    mec = min_threshold * (len(data[0]) + 1) + min_threshold\n",
    "    \n",
    "    return mec\n",
    "\n",
    "n = 20\n",
    "d = 4\n",
    "X = np.random.randint(2, size=(n, d))\n",
    "y = np.random.rand(n)\n",
    "mec = memorize_regression(X, y)\n",
    "mec"
   ]
  }
 ],
 "metadata": {
  "kernelspec": {
   "display_name": "soulspeak",
   "language": "python",
   "name": "python3"
  },
  "language_info": {
   "codemirror_mode": {
    "name": "ipython",
    "version": 3
   },
   "file_extension": ".py",
   "mimetype": "text/x-python",
   "name": "python",
   "nbconvert_exporter": "python",
   "pygments_lexer": "ipython3",
   "version": "3.10.12"
  }
 },
 "nbformat": 4,
 "nbformat_minor": 2
}
