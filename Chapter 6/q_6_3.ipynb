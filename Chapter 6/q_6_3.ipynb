{
 "cells": [
  {
   "cell_type": "markdown",
   "metadata": {},
   "source": [
    "# Chapter 6: The Mechanics of Generalization"
   ]
  },
  {
   "cell_type": "markdown",
   "metadata": {},
   "source": [
    "## Compression"
   ]
  },
  {
   "cell_type": "markdown",
   "metadata": {},
   "source": [
    "### (a) Create a long random string using a Python program, and use a lossless compression algorithm of your choice to compress the string. Note the compression ratio."
   ]
  },
  {
   "cell_type": "markdown",
   "metadata": {},
   "source": [
    "#### Ans: The long random string is compressed using zlib and the compression ratio is about 1.32:1."
   ]
  },
  {
   "cell_type": "code",
   "execution_count": 1,
   "metadata": {},
   "outputs": [
    {
     "data": {
      "text/plain": [
       "(100000, 75190, 1.3299640909695438)"
      ]
     },
     "execution_count": 1,
     "metadata": {},
     "output_type": "execute_result"
    }
   ],
   "source": [
    "import zlib\n",
    "import random\n",
    "import string\n",
    "\n",
    "# Generate a long random string\n",
    "random_string = ''.join(random.choices(string.ascii_letters + string.digits, k=100000))\n",
    "\n",
    "# Compress the string using zlib (a lossless compression algorithm)\n",
    "compressed_data = zlib.compress(random_string.encode())\n",
    "\n",
    "# Calculate the compression ratio\n",
    "original_size = len(random_string.encode())\n",
    "compressed_size = len(compressed_data)\n",
    "compression_ratio = original_size / compressed_size\n",
    "\n",
    "original_size, compressed_size, compression_ratio"
   ]
  },
  {
   "cell_type": "markdown",
   "metadata": {},
   "source": [
    "### (b) What is the expected compression ratio in (a)? Explain why?"
   ]
  },
  {
   "cell_type": "markdown",
   "metadata": {},
   "source": [
    "#### Ans. The expected compression ratio in (a) is 1 or very close to 1 (since we cannot generate truly random string in reality). If the string is truly random (in our case is computer-generated, so is not), it is not possible to compress it without losing information due to randomness. So a lossless compression will be copying the entire string as no patterns can be detected from the random string."
   ]
  }
 ],
 "metadata": {
  "kernelspec": {
   "display_name": "soulspeak",
   "language": "python",
   "name": "python3"
  },
  "language_info": {
   "codemirror_mode": {
    "name": "ipython",
    "version": 3
   },
   "file_extension": ".py",
   "mimetype": "text/x-python",
   "name": "python",
   "nbconvert_exporter": "python",
   "pygments_lexer": "ipython3",
   "version": "3.11.5"
  }
 },
 "nbformat": 4,
 "nbformat_minor": 2
}
