{
  "cells": [
    {
      "cell_type": "markdown",
      "metadata": {
        "id": "WBxnIsbFwn3y"
      },
      "source": [
        "# Chapter 6: The Mechanics of Generalization"
      ]
    },
    {
      "cell_type": "markdown",
      "metadata": {
        "id": "VwkjVTDtwsVA"
      },
      "source": [
        "## 1. Logic Definition of Generalization:"
      ]
    },
    {
      "cell_type": "code",
      "execution_count": 1,
      "metadata": {},
      "outputs": [],
      "source": [
        "import numpy as np\n",
        "from sklearn.neighbors import KNeighborsClassifier\n",
        "from sklearn.model_selection import LeaveOneOut\n",
        "\n",
        "def get_min_points_required(X, y):\n",
        "    \"\"\"\n",
        "    Calculates the minimum number of points required to achieve a perfect classification using K-Nearest Neighbors.\n",
        "\n",
        "    Parameters:\n",
        "    X (array-like): The input feature matrix.\n",
        "    y (array-like): The target labels.\n",
        "\n",
        "    Returns:\n",
        "    int: The minimum number of points required for perfect classification.\n",
        "    \"\"\"\n",
        "    \n",
        "    def leave_one_out(X, y):\n",
        "        if X.shape[0] <= 1:\n",
        "            return X.shape[0]\n",
        "        \n",
        "        loo = LeaveOneOut()\n",
        "\n",
        "        for train_index, _ in loo.split(X):\n",
        "            X_train, y_train = X[train_index], y[train_index]\n",
        "            knn = KNeighborsClassifier(n_neighbors=1)\n",
        "            knn.fit(X_train, y_train)\n",
        "            if knn.score(X, y) == 1:\n",
        "                return leave_one_out(X_train, y_train)\n",
        "        return X.shape[0]\n",
        "\n",
        "    return leave_one_out(X, y)"
      ]
    },
    {
      "cell_type": "markdown",
      "metadata": {
        "id": "eA8JfdNBwvtO"
      },
      "source": [
        "### (a) Show empirically that the information limit of 2 prediction bits per parameter also holds for nearest neighbors."
      ]
    },
    {
      "cell_type": "code",
      "execution_count": 5,
      "metadata": {
        "colab": {
          "base_uri": "https://localhost:8080/",
          "height": 407
        },
        "id": "qINArvYBy_93",
        "outputId": "58f779c4-13cc-4322-fd37-c2d6b1a3317d"
      },
      "outputs": [
        {
          "name": "stdout",
          "output_type": "stream",
          "text": [
            "d=2: n_full=4, Avg. req. points for memorization n_avg=2.90, n_full/n_avg=1.3793103448275863\n",
            "d=4: n_full=16, Avg. req. points for memorization n_avg=8.60, n_full/n_avg=1.8604651162790697\n",
            "d=6: n_full=64, Avg. req. points for memorization n_avg=32.05, n_full/n_avg=1.9968798751950079\n"
          ]
        }
      ],
      "source": [
        "d_list = [2, 4, 6]\n",
        "expt_size = 20\n",
        "class_size = 2\n",
        "\n",
        "for d in d_list:\n",
        "    n_full = 2 ** d\n",
        "    n_avg_list = []\n",
        "    for _ in range(expt_size):\n",
        "        X = np.array([list(map(int, np.binary_repr(i, width=d))) for i in range(n_full)])\n",
        "        y = np.random.randint(class_size, size=n_full)\n",
        "        n_avg_list.append(get_min_points_required(X, y))\n",
        "    n_avg = np.mean(n_avg_list)\n",
        "    print(f\"d={d}: n_full={n_full}, Avg. req. points for memorization n_avg={n_avg:.2f}, n_full/n_avg={n_full/n_avg}\")"
      ]
    },
    {
      "cell_type": "markdown",
      "metadata": {},
      "source": [
        "#### Ans: As shown in the printouts above, when d increases, prediction bits per parameter reaches the limit of 2."
      ]
    },
    {
      "cell_type": "markdown",
      "metadata": {},
      "source": [
        "### (b) Extend your experiments to multi-class classification."
      ]
    },
    {
      "cell_type": "code",
      "execution_count": 7,
      "metadata": {},
      "outputs": [
        {
          "name": "stdout",
          "output_type": "stream",
          "text": [
            "d=2: n_full=4, Avg. req. points for memorization n_avg=3.10, n_full/n_avg=1.2903225806451613\n",
            "d=4: n_full=16, Avg. req. points for memorization n_avg=11.85, n_full/n_avg=1.350210970464135\n",
            "d=6: n_full=64, Avg. req. points for memorization n_avg=43.10, n_full/n_avg=1.4849187935034802\n"
          ]
        }
      ],
      "source": [
        "d_list = [2, 4, 6]\n",
        "expt_size = 20\n",
        "class_size = 3\n",
        "\n",
        "for d in d_list:\n",
        "    n_full = 2 ** d\n",
        "    n_avg_list = []\n",
        "    for _ in range(expt_size):\n",
        "        X = np.array([list(map(int, np.binary_repr(i, width=d))) for i in range(n_full)])\n",
        "        y = np.random.randint(class_size, size=n_full)\n",
        "        n_avg_list.append(get_min_points_required(X, y))\n",
        "    n_avg = np.mean(n_avg_list)\n",
        "    print(f\"d={d}: n_full={n_full}, Avg. req. points for memorization n_avg={n_avg:.2f}, n_full/n_avg={n_full/n_avg}\")"
      ]
    },
    {
      "cell_type": "markdown",
      "metadata": {},
      "source": [
        "#### Ans: As shown in the printouts above for the three-class classification, when d increases, prediction bits per parameter reaches the limit of $\\frac{3-1}{2}=1.5$."
      ]
    }
  ],
  "metadata": {
    "colab": {
      "provenance": []
    },
    "kernelspec": {
      "display_name": "Python 3",
      "name": "python3"
    },
    "language_info": {
      "codemirror_mode": {
        "name": "ipython",
        "version": 3
      },
      "file_extension": ".py",
      "mimetype": "text/x-python",
      "name": "python",
      "nbconvert_exporter": "python",
      "pygments_lexer": "ipython3",
      "version": "3.11.5"
    }
  },
  "nbformat": 4,
  "nbformat_minor": 0
}
